{
  "nbformat": 4,
  "nbformat_minor": 0,
  "metadata": {
    "colab": {
      "name": "My_final_project2 (1).ipynb",
      "provenance": [],
      "collapsed_sections": []
    },
    "kernelspec": {
      "name": "python3",
      "display_name": "Python 3"
    },
    "accelerator": "GPU"
  },
  "cells": [
    {
      "cell_type": "code",
      "metadata": {
        "id": "qBcZSaDCyI8I",
        "colab_type": "code",
        "colab": {
          "base_uri": "https://localhost:8080/",
          "height": 85
        },
        "outputId": "8b72469d-0453-43ca-8088-bcc8d8e81d6a"
      },
      "source": [
        "import pandas as pd\n",
        "import numpy as np\n",
        "import matplotlib.pyplot as plt\n",
        "import nltk\n",
        "import random\n",
        "import csv\n",
        "import io\n",
        "nltk.download('punkt')\n",
        "from nltk import tokenize\n",
        "from nltk.corpus import stopwords\n",
        "from nltk.tokenize import RegexpTokenizer\n",
        "from sklearn.model_selection import train_test_split\n",
        "nltk.download('stopwords')\n",
        "from itertools import chain"
      ],
      "execution_count": 32,
      "outputs": [
        {
          "output_type": "stream",
          "text": [
            "[nltk_data] Downloading package punkt to /root/nltk_data...\n",
            "[nltk_data]   Package punkt is already up-to-date!\n",
            "[nltk_data] Downloading package stopwords to /root/nltk_data...\n",
            "[nltk_data]   Package stopwords is already up-to-date!\n"
          ],
          "name": "stdout"
        }
      ]
    },
    {
      "cell_type": "code",
      "metadata": {
        "id": "vffxYamXyhSy",
        "colab_type": "code",
        "colab": {
          "base_uri": "https://localhost:8080/",
          "height": 359
        },
        "outputId": "7881a673-e010-4852-c826-e3016081cc87"
      },
      "source": [
        "url = 'https://github.com/gupta-leader/gupta_mashiaah/raw/master/BBB.csv'\n",
        "data = pd.read_csv(url)\n",
        "data.head(10)"
      ],
      "execution_count": 8,
      "outputs": [
        {
          "output_type": "execute_result",
          "data": {
            "text/html": [
              "<div>\n",
              "<style scoped>\n",
              "    .dataframe tbody tr th:only-of-type {\n",
              "        vertical-align: middle;\n",
              "    }\n",
              "\n",
              "    .dataframe tbody tr th {\n",
              "        vertical-align: top;\n",
              "    }\n",
              "\n",
              "    .dataframe thead th {\n",
              "        text-align: right;\n",
              "    }\n",
              "</style>\n",
              "<table border=\"1\" class=\"dataframe\">\n",
              "  <thead>\n",
              "    <tr style=\"text-align: right;\">\n",
              "      <th></th>\n",
              "      <th>Topic</th>\n",
              "      <th>Paragraph</th>\n",
              "    </tr>\n",
              "  </thead>\n",
              "  <tbody>\n",
              "    <tr>\n",
              "      <th>0</th>\n",
              "      <td>A Monument for Peace</td>\n",
              "      <td>In December, 1864, the Civil War was nearly ov...</td>\n",
              "    </tr>\n",
              "    <tr>\n",
              "      <th>1</th>\n",
              "      <td>The Brooklyn Bridge</td>\n",
              "      <td>Have you ever seen a picture of the Brooklyn B...</td>\n",
              "    </tr>\n",
              "    <tr>\n",
              "      <th>2</th>\n",
              "      <td>Pluto: The Planet That Wasn't</td>\n",
              "      <td>Poor Pluto!\\n\\nIt’s bad enough to be the runt ...</td>\n",
              "    </tr>\n",
              "    <tr>\n",
              "      <th>3</th>\n",
              "      <td>When Television Became Colorful</td>\n",
              "      <td>Today, nearly all television programs are broa...</td>\n",
              "    </tr>\n",
              "    <tr>\n",
              "      <th>4</th>\n",
              "      <td>An Unlikely Parasite: The Mistletoe</td>\n",
              "      <td>During the holidays, many people hang mistleto...</td>\n",
              "    </tr>\n",
              "    <tr>\n",
              "      <th>5</th>\n",
              "      <td>Predicting the Future</td>\n",
              "      <td>Garry Golden sits in a small cafe in Brooklyn,...</td>\n",
              "    </tr>\n",
              "    <tr>\n",
              "      <th>6</th>\n",
              "      <td>Benjamin Franklin: The Ultimate Solution Creator</td>\n",
              "      <td>Benjamin Franklin is credited with an array of...</td>\n",
              "    </tr>\n",
              "    <tr>\n",
              "      <th>7</th>\n",
              "      <td>Alexander Graham Bel</td>\n",
              "      <td>Alexander Graham Bell was in his laboratory, w...</td>\n",
              "    </tr>\n",
              "    <tr>\n",
              "      <th>8</th>\n",
              "      <td>Louis Braille</td>\n",
              "      <td>Have you ever noticed when you step into an el...</td>\n",
              "    </tr>\n",
              "    <tr>\n",
              "      <th>9</th>\n",
              "      <td>The Origins of the Internet</td>\n",
              "      <td>All of the men were nervous as they waited. Bu...</td>\n",
              "    </tr>\n",
              "  </tbody>\n",
              "</table>\n",
              "</div>"
            ],
            "text/plain": [
              "                                              Topic                                          Paragraph\n",
              "0                              A Monument for Peace  In December, 1864, the Civil War was nearly ov...\n",
              "1                               The Brooklyn Bridge  Have you ever seen a picture of the Brooklyn B...\n",
              "2                     Pluto: The Planet That Wasn't  Poor Pluto!\\n\\nIt’s bad enough to be the runt ...\n",
              "3                   When Television Became Colorful  Today, nearly all television programs are broa...\n",
              "4               An Unlikely Parasite: The Mistletoe  During the holidays, many people hang mistleto...\n",
              "5                             Predicting the Future  Garry Golden sits in a small cafe in Brooklyn,...\n",
              "6  Benjamin Franklin: The Ultimate Solution Creator  Benjamin Franklin is credited with an array of...\n",
              "7                              Alexander Graham Bel  Alexander Graham Bell was in his laboratory, w...\n",
              "8                                     Louis Braille  Have you ever noticed when you step into an el...\n",
              "9                       The Origins of the Internet  All of the men were nervous as they waited. Bu..."
            ]
          },
          "metadata": {
            "tags": []
          },
          "execution_count": 8
        }
      ]
    },
    {
      "cell_type": "code",
      "metadata": {
        "id": "0qaqt0_nFbr1",
        "colab_type": "code",
        "colab": {}
      },
      "source": [
        "data=data.fillna(0)"
      ],
      "execution_count": null,
      "outputs": []
    },
    {
      "cell_type": "code",
      "metadata": {
        "id": "BUVUffT9y7sM",
        "colab_type": "code",
        "colab": {}
      },
      "source": [
        "def remove_stop_punct_from_paragrapghs(par):\n",
        "  tokenizer = RegexpTokenizer(r'\\w+')\n",
        "  tokens = tokenizer.tokenize(str(par).lower())\n",
        "  stop_words = set(stopwords.words('english'))\n",
        "  tokens = [w for w in tokens if not w in stop_words]\n",
        "  new_par= tokens\n",
        "  return new_par"
      ],
      "execution_count": null,
      "outputs": []
    },
    {
      "cell_type": "code",
      "metadata": {
        "id": "lQ816D730hk7",
        "colab_type": "code",
        "colab": {}
      },
      "source": [
        "def remove_stop_from_questions(que):\n",
        "  tokenizer = RegexpTokenizer(r'\\w+')\n",
        "  tokens = tokenizer.tokenize(str(que).lower())\n",
        "  stop_words = set(stopwords.words('english'))\n",
        "  tokens = [w for w in tokens if w in word_corpus if not w in stop_words]\n",
        "  new_que = tokens\n",
        "  return new_que\n"
      ],
      "execution_count": null,
      "outputs": []
    },
    {
      "cell_type": "code",
      "metadata": {
        "id": "eK91iUxW4sIZ",
        "colab_type": "code",
        "colab": {}
      },
      "source": [
        "def Create_Paragraph_Topic_list(data):\n",
        "  temp=[]\n",
        "  row_data=[]\n",
        "  for i in range(data.shape[0]):\n",
        "    for j in tokenize.sent_tokenize(data['Paragraph'][i]):\n",
        "      temp.append((j,data['Paragraph'][i],data['Topic'][i]))\n",
        "  temp\n",
        "  for ele in temp:\n",
        "    if ele[0]!=0:\n",
        "      row_data.append(ele)\n",
        "  return row_data\n",
        "row_data = Create_Paragraph_Topic_list(data)"
      ],
      "execution_count": null,
      "outputs": []
    },
    {
      "cell_type": "code",
      "metadata": {
        "id": "riqtCvr1b2Z9",
        "colab_type": "code",
        "colab": {}
      },
      "source": [
        "def Creat_X(data):\n",
        "  C=Create_Paragraph_Topic_list(data)\n",
        "  sentence_list=[]\n",
        "  for i in range((len(C))):\n",
        "    sentence_list.append(remove_stop_from_questions(C[i][0]))\n",
        "  return sentence_list\n"
      ],
      "execution_count": null,
      "outputs": []
    },
    {
      "cell_type": "code",
      "metadata": {
        "id": "hcdTlmtCAEgg",
        "colab_type": "code",
        "colab": {}
      },
      "source": [
        "def Creat_Y(data):\n",
        "  row_data = Create_Paragraph_Topic_list(data)\n",
        "  paragraph_list=[]\n",
        "  for i in range((len(row_data))):\n",
        "    paragraph_list.append(remove_stop_punct_from_paragrapghs(row_data[i][1]))\n",
        "  return paragraph_list\n"
      ],
      "execution_count": null,
      "outputs": []
    },
    {
      "cell_type": "code",
      "metadata": {
        "id": "vvn0KaApeeYu",
        "colab_type": "code",
        "colab": {}
      },
      "source": [
        "def creat_word_corpus(data):\n",
        "  par=Creat_Y(data)\n",
        "  #word_corpus=creat_word_corpus(par)\n",
        "  word_corpus= np.unique(np.array(list(chain.from_iterable(par))))\n",
        "  return word_corpus\n",
        "word_corpus=creat_word_corpus(data)"
      ],
      "execution_count": null,
      "outputs": []
    },
    {
      "cell_type": "code",
      "metadata": {
        "id": "wZK-9fk9S8_c",
        "colab_type": "code",
        "colab": {}
      },
      "source": [
        ""
      ],
      "execution_count": null,
      "outputs": []
    },
    {
      "cell_type": "code",
      "metadata": {
        "id": "IxcQ4haOcPdo",
        "colab_type": "code",
        "colab": {}
      },
      "source": [
        "X = Creat_X(data)\n",
        "Y = Creat_Y(data)\n"
      ],
      "execution_count": null,
      "outputs": []
    },
    {
      "cell_type": "code",
      "metadata": {
        "id": "puQ5kMzLf6Us",
        "colab_type": "code",
        "colab": {}
      },
      "source": [
        "def gen_voc(w):\n",
        "  voc = {ch:i for i ,ch in enumerate(w)}\n",
        "  return voc\n",
        "voc =gen_voc(word_corpus)"
      ],
      "execution_count": null,
      "outputs": []
    },
    {
      "cell_type": "code",
      "metadata": {
        "id": "YkMv9hbO6F8e",
        "colab_type": "code",
        "colab": {}
      },
      "source": [
        "def multi_hot_encode(sequences, dimension):\n",
        "  results=np.zeros((len(sequences), dimension))\n",
        "  for i in range(len(sequences)):\n",
        "    for j in sequences[i]:\n",
        "      results[i][voc[j]]=1\n",
        "  return results"
      ],
      "execution_count": null,
      "outputs": []
    },
    {
      "cell_type": "code",
      "metadata": {
        "id": "dk7S6R3tgcOH",
        "colab_type": "code",
        "colab": {}
      },
      "source": [
        "x = multi_hot_encode(X, word_corpus.shape[0])\n",
        "y = multi_hot_encode(Y, word_corpus.shape[0])"
      ],
      "execution_count": null,
      "outputs": []
    },
    {
      "cell_type": "code",
      "metadata": {
        "id": "HSryr-9xpz-A",
        "colab_type": "code",
        "colab": {}
      },
      "source": [
        "dict1={}\n",
        "for i in range(y.shape[0]):\n",
        "  dict1.update( {row_data[i][2] :y[i]} )\n"
      ],
      "execution_count": null,
      "outputs": []
    },
    {
      "cell_type": "code",
      "metadata": {
        "id": "trpbXaYLg0tx",
        "colab_type": "code",
        "colab": {
          "base_uri": "https://localhost:8080/",
          "height": 119
        },
        "outputId": "6e06924b-8f22-4209-c7d4-3acae640e6e2"
      },
      "source": [
        "from sklearn.tree import DecisionTreeClassifier\n",
        "dtc =DecisionTreeClassifier()\n",
        "dtc.fit(x, y)"
      ],
      "execution_count": null,
      "outputs": [
        {
          "output_type": "execute_result",
          "data": {
            "text/plain": [
              "DecisionTreeClassifier(ccp_alpha=0.0, class_weight=None, criterion='gini',\n",
              "                       max_depth=None, max_features=None, max_leaf_nodes=None,\n",
              "                       min_impurity_decrease=0.0, min_impurity_split=None,\n",
              "                       min_samples_leaf=1, min_samples_split=2,\n",
              "                       min_weight_fraction_leaf=0.0, presort='deprecated',\n",
              "                       random_state=None, splitter='best')"
            ]
          },
          "metadata": {
            "tags": []
          },
          "execution_count": 121
        }
      ]
    },
    {
      "cell_type": "code",
      "metadata": {
        "id": "-wrxRj96hXp5",
        "colab_type": "code",
        "colab": {}
      },
      "source": [
        "def quen_test(Q,dict1):\n",
        "  q=np.array([Q])\n",
        "  q=q.reshape(1,-1)\n",
        "  q=remove_stop_from_questions(q)\n",
        "  q_test =  multi_hot_encode([q], word_corpus.shape[0])\n",
        "  ans= dtc.predict(q_test)\n",
        "  for key , value in dict1.items():\n",
        "    if (value==ans).all():\n",
        "      break\n",
        "  return key"
      ],
      "execution_count": null,
      "outputs": []
    },
    {
      "cell_type": "code",
      "metadata": {
        "id": "2Ah5htyTjRIN",
        "colab_type": "code",
        "colab": {
          "base_uri": "https://localhost:8080/",
          "height": 35
        },
        "outputId": "c811ec8f-7a5c-4c5e-db5e-65afaf32d67d"
      },
      "source": [
        "Q='what type of tv companies would sell'\n",
        "quen_test(Q,dict1)"
      ],
      "execution_count": null,
      "outputs": [
        {
          "output_type": "execute_result",
          "data": {
            "application/vnd.google.colaboratory.intrinsic+json": {
              "type": "string"
            },
            "text/plain": [
              "'When Television Became Colorful'"
            ]
          },
          "metadata": {
            "tags": []
          },
          "execution_count": 123
        }
      ]
    },
    {
      "cell_type": "code",
      "metadata": {
        "id": "ix7SvRopHKq9",
        "colab_type": "code",
        "colab": {
          "base_uri": "https://localhost:8080/",
          "height": 204
        },
        "outputId": "31b579ca-d378-438f-fcfd-c75ed579b7ed"
      },
      "source": [
        "url = 'https://github.com/gupta-leader/gupta_mashiaah/raw/master/questions.csv'\n",
        "question = pd.read_csv(url)\n",
        "question.head()"
      ],
      "execution_count": 33,
      "outputs": [
        {
          "output_type": "execute_result",
          "data": {
            "text/html": [
              "<div>\n",
              "<style scoped>\n",
              "    .dataframe tbody tr th:only-of-type {\n",
              "        vertical-align: middle;\n",
              "    }\n",
              "\n",
              "    .dataframe tbody tr th {\n",
              "        vertical-align: top;\n",
              "    }\n",
              "\n",
              "    .dataframe thead th {\n",
              "        text-align: right;\n",
              "    }\n",
              "</style>\n",
              "<table border=\"1\" class=\"dataframe\">\n",
              "  <thead>\n",
              "    <tr style=\"text-align: right;\">\n",
              "      <th></th>\n",
              "      <th>Questions</th>\n",
              "      <th>A</th>\n",
              "      <th>B</th>\n",
              "      <th>C</th>\n",
              "      <th>D</th>\n",
              "      <th>Answer</th>\n",
              "    </tr>\n",
              "  </thead>\n",
              "  <tbody>\n",
              "    <tr>\n",
              "      <th>0</th>\n",
              "      <td>What type of TV companies would  sell?</td>\n",
              "      <td>Good Quality</td>\n",
              "      <td>Low resolution</td>\n",
              "      <td>Flicker picture</td>\n",
              "      <td>Less responsive</td>\n",
              "      <td>A</td>\n",
              "    </tr>\n",
              "    <tr>\n",
              "      <th>1</th>\n",
              "      <td>What was the cost of the original statue  in 1...</td>\n",
              "      <td>$15,000</td>\n",
              "      <td>$10,000</td>\n",
              "      <td>$20,000</td>\n",
              "      <td>$30,000</td>\n",
              "      <td>D</td>\n",
              "    </tr>\n",
              "    <tr>\n",
              "      <th>2</th>\n",
              "      <td>In which year Mrs. James E. Caldwell and her g...</td>\n",
              "      <td>1814</td>\n",
              "      <td>1714</td>\n",
              "      <td>1914</td>\n",
              "      <td>1924</td>\n",
              "      <td>C</td>\n",
              "    </tr>\n",
              "    <tr>\n",
              "      <th>3</th>\n",
              "      <td>What Scientists made new rules  and decide to ...</td>\n",
              "      <td>Only Pluto qualified</td>\n",
              "      <td>Only Eris qualified</td>\n",
              "      <td>Both Pluto and Eris qualified</td>\n",
              "      <td>neither Pluto nor Eris qualified</td>\n",
              "      <td>D</td>\n",
              "    </tr>\n",
              "    <tr>\n",
              "      <th>4</th>\n",
              "      <td>When it is unusual to find any television show...</td>\n",
              "      <td>past decades</td>\n",
              "      <td>Today</td>\n",
              "      <td>In 1992</td>\n",
              "      <td>None of the above</td>\n",
              "      <td>B</td>\n",
              "    </tr>\n",
              "  </tbody>\n",
              "</table>\n",
              "</div>"
            ],
            "text/plain": [
              "                                           Questions  ... Answer\n",
              "0             What type of TV companies would  sell?  ...      A\n",
              "1  What was the cost of the original statue  in 1...  ...      D\n",
              "2  In which year Mrs. James E. Caldwell and her g...  ...      C\n",
              "3  What Scientists made new rules  and decide to ...  ...      D\n",
              "4  When it is unusual to find any television show...  ...      B\n",
              "\n",
              "[5 rows x 6 columns]"
            ]
          },
          "metadata": {
            "tags": []
          },
          "execution_count": 33
        }
      ]
    },
    {
      "cell_type": "code",
      "metadata": {
        "id": "b6mn46g8fwek",
        "colab_type": "code",
        "colab": {
          "resources": {
            "http://localhost:8080/nbextensions/google.colab/files.js": {
              "data": "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",
              "ok": true,
              "headers": [
                [
                  "content-type",
                  "application/javascript"
                ]
              ],
              "status": 200,
              "status_text": ""
            }
          },
          "base_uri": "https://localhost:8080/",
          "height": 72
        },
        "outputId": "c5047e00-69d7-4796-c7c8-19785635fc6a"
      },
      "source": [
        "from google.colab import files\n",
        "uploaded = files.upload()"
      ],
      "execution_count": 34,
      "outputs": [
        {
          "output_type": "display_data",
          "data": {
            "text/html": [
              "\n",
              "     <input type=\"file\" id=\"files-c172d6f7-de93-459e-bf97-68e0b4499c43\" name=\"files[]\" multiple disabled\n",
              "        style=\"border:none\" />\n",
              "     <output id=\"result-c172d6f7-de93-459e-bf97-68e0b4499c43\">\n",
              "      Upload widget is only available when the cell has been executed in the\n",
              "      current browser session. Please rerun this cell to enable.\n",
              "      </output>\n",
              "      <script src=\"/nbextensions/google.colab/files.js\"></script> "
            ],
            "text/plain": [
              "<IPython.core.display.HTML object>"
            ]
          },
          "metadata": {
            "tags": []
          }
        },
        {
          "output_type": "stream",
          "text": [
            "Saving data1.txt to data1.txt\n"
          ],
          "name": "stdout"
        }
      ]
    },
    {
      "cell_type": "code",
      "metadata": {
        "id": "bvov8G6NBAsz",
        "colab_type": "code",
        "colab": {}
      },
      "source": [
        "file2= open(\"data1.txt\",\"r\")\n",
        "import re\n",
        "que_lis = file2.read()\n",
        "re.split('; |, |\\*|\\n',que_lis)\n",
        "convert_que = list(que_lis.split(\",\"))\n",
        "count=len(convert_que)/6;\n",
        "count1=0\n",
        "while(count>0):\n",
        "  add_lis = []\n",
        "  for i in range(count1,count1+6):\n",
        "    add_lis.append(convert_que[i])\n",
        "  cols= [\"Questions\",\"A\",\"B\",\"C\",\"D\",\"Answer\"]\n",
        "  count=count-1;\n",
        "  count1=count1+6;\n",
        "  new_df = pd.DataFrame([add_lis],columns=cols)\n",
        "  question = pd.concat([question,new_df],ignore_index=True)\n"
      ],
      "execution_count": 75,
      "outputs": []
    },
    {
      "cell_type": "code",
      "metadata": {
        "id": "GtRUTa9Ki5tt",
        "colab_type": "code",
        "colab": {}
      },
      "source": [
        "def update_flag(sugst_list,s_value):\n",
        "  B = list(sugst_list.items())\n",
        "  C=sorted(B,key=lambda x: x[1], reverse=False)\n",
        "  simp=[]\n",
        "  for i in range(s_value):\n",
        "    simp.append(C[i][0])\n",
        "  return simp"
      ],
      "execution_count": null,
      "outputs": []
    },
    {
      "cell_type": "code",
      "metadata": {
        "id": "mvSrmbfJi7Cb",
        "colab_type": "code",
        "colab": {}
      },
      "source": [
        "def Start_Quiz(number_of_questions=10,s_value=2,mpq=1,negmark=0.25):\n",
        "  right_que = 0\n",
        "  wrong_que = 0\n",
        "  count_que = 1\n",
        "  nn = number_of_questions\n",
        "  l=[]\n",
        "  t_name=[]\n",
        "  s = (list(np.linspace(0,(question.shape[0]-1),question.shape[0],endpoint=True,dtype=int)))\n",
        "  \n",
        "  sugst_list = {ch:0 for i ,ch in enumerate(data['Topic'])}\n",
        "  while(number_of_questions>0):\n",
        "    simplicity =update_flag(sugst_list,s_value)\n",
        "    random.shuffle(s)\n",
        "    if quen_test(question['Questions'][s[0]],dict1) not in simplicity:\n",
        "      print('\\n')\n",
        "      print('\\n')\n",
        "      print(count_que,':',question['Questions'][s[0]],'\\n','a)',question['A'][s[0]],'\\n','b)',question['B'][s[0]],'\\n','c)',question['C'][s[0]],'\\n','d)',question['D'][s[0]],'\\n','*FOR SKIP PRESS ENTER')\n",
        "      print('\\n')\n",
        "      ans = input(\"Make your choice : \")\n",
        "      \n",
        "      \n",
        "      if ans.upper() == question['Answer'][s[0]]:\n",
        "          print(\"Correct!! \\U0001F44D\")\n",
        "          Y_predict = quen_test(question['Questions'][s[0]],dict1)\n",
        "          l.append((Y_predict,1))\n",
        "          t_name.append(Y_predict)\n",
        "          sugst_list[Y_predict] = sugst_list[Y_predict]+1\n",
        "          right_que+=1\n",
        "      elif ans.upper() ==\"\":\n",
        "        Y_predict = quen_test(question['Questions'][s[0]],dict1)\n",
        "        t_name.append(Y_predict)  \n",
        "        \n",
        "        \n",
        "      else:\n",
        "          print(\" Your answer is Incorrect!! \\U0001F44E\t \",'\\n',\"Correct option is:\",question['Answer'][s[0]].lower()) \n",
        "          Y_predict = quen_test(question['Questions'][s[0]],dict1)\n",
        "          l.append((Y_predict,0))\n",
        "          t_name.append(Y_predict)\n",
        "          sugst_list[Y_predict] = sugst_list[Y_predict]-1\n",
        "          wrong_que+=1\n",
        "        \n",
        "      \n",
        "        \n",
        "        \n",
        "      number_of_questions=number_of_questions-1\n",
        "      s.remove(s[0])\n",
        "      count_que+=1\n",
        "      \n",
        "    else:\n",
        "      random.shuffle(s) \n",
        "          \n",
        "  u_list=list(set(t_name))\n",
        "  l_wrong=[]\n",
        "  for i in range(len(l)):\n",
        "    if l[i][1]==0:\n",
        "      l_wrong.append(l[i][0])\n",
        "  l_right=[]\n",
        "  for i in range(len(l)):\n",
        "    if l[i][1]==1:\n",
        "      l_right.append(l[i][0])\n",
        "  std_list=[]\n",
        "  for i in range(len(l)):\n",
        "      std_list.append((l[i][0],l_right.count(l[i][0]),l_wrong.count(l[i][0])))\n",
        "  p =list(set(std_list))\n",
        "  res = []\n",
        "  only_prob=[]\n",
        "  topic_pie=[]\n",
        "  for i in range(len(p)):\n",
        "    res.append((p[i][0],round(p[i][1]*100/(p[i][1]+p[i][2]),2)))\n",
        "    only_prob.append((p[i][0],round(p[i][1]*100/(p[i][1]+p[i][2]),2)))\n",
        "    topic_pie.append((p[i][0],round((p[i][1]+p[i][2])*100/nn,2)))\n",
        "  summary=pd.DataFrame(res,columns=['Topic', 'Percent(Right)'])\n",
        "  summary1=pd.DataFrame(topic_pie,columns=['Topic', 'Percent(que)'])\n",
        "  #print(summary)\n",
        "  revise_again=sorted(only_prob,key=lambda x: x[1])\n",
        "  #only_prob=np.sort(only_prob)\n",
        "  #print(revise_again)\n",
        "  score_f = (right_que-wrong_que*negmark)*mpq\n",
        " \n",
        "  \n",
        "  return summary , right_que, wrong_que ,score_f,nn,revise_again,summary1\n",
        "#summary , right_que, wrong_que ,score_f,nn,revise_again= Start_Quiz(5)"
      ],
      "execution_count": null,
      "outputs": []
    },
    {
      "cell_type": "code",
      "metadata": {
        "id": "t03QvIzajHbx",
        "colab_type": "code",
        "colab": {
          "base_uri": "https://localhost:8080/",
          "height": 1000
        },
        "outputId": "5a46a93e-7f13-40d8-8a7b-bce4e0cf430d"
      },
      "source": [
        "summary , right_que, wrong_que ,score_f,nn,revise_again,summary1= Start_Quiz(20)"
      ],
      "execution_count": null,
      "outputs": [
        {
          "output_type": "stream",
          "text": [
            "\n",
            "\n",
            "\n",
            "\n",
            "1 : What was the profession of Louis Brailles's Father? \n",
            " a) Doctor \n",
            " b) A leather worker \n",
            " c) Buisness man \n",
            " d) Carpenter \n",
            " *FOR SKIP PRESS ENTER\n",
            "\n",
            "\n",
            "Make your choice : a\n",
            " Your answer is Incorrect!! 👎\t  \n",
            " Correct option is: b\n",
            "\n",
            "\n",
            "\n",
            "\n",
            "2 : What Scientists made new rules  and decide to do for planet? \n",
            " a) Only Pluto qualified \n",
            " b) Only Eris qualified \n",
            " c) Both Pluto and Eris qualified \n",
            " d) neither Pluto nor Eris qualified \n",
            " *FOR SKIP PRESS ENTER\n",
            "\n",
            "\n",
            "Make your choice : a\n",
            " Your answer is Incorrect!! 👎\t  \n",
            " Correct option is: d\n",
            "\n",
            "\n",
            "\n",
            "\n",
            "3 : What is this passage \"Benjamin Franklin: The Ultimate Solution Creator\" mainly about? \n",
            " a) the U.S. patent system \n",
            " b) the invention of the lightning rod \n",
            " c) population growth in the American colonies \n",
            " d) Benjamin Franklin and his many inventions \n",
            " *FOR SKIP PRESS ENTER\n",
            "\n",
            "\n",
            "Make your choice : a\n",
            " Your answer is Incorrect!! 👎\t  \n",
            " Correct option is: d\n",
            "\n",
            "\n",
            "\n",
            "\n",
            "4 : Who were excited by Bell’s idea to invent a device that transmitted multiple signals over a single wire? \n",
            " a) Thomas Watson \n",
            " b) His students \n",
            " c) The parents of two of his students \n",
            " d) his grandfather \n",
            " *FOR SKIP PRESS ENTER\n",
            "\n",
            "\n",
            "Make your choice : a\n",
            " Your answer is Incorrect!! 👎\t  \n",
            " Correct option is: c\n",
            "\n",
            "\n",
            "\n",
            "\n",
            "5 :  After how many years of work, the money was collected, and the statue was rededicated? \n",
            " a) seven \n",
            " b) ten \n",
            " c) five \n",
            " d) two \n",
            " *FOR SKIP PRESS ENTER\n",
            "\n",
            "\n",
            "Make your choice : a\n",
            "Correct!! 👍\n",
            "\n",
            "\n",
            "\n",
            "\n",
            "6 : What Futurists have hope to do? \n",
            " a) Houston approaches things to understand the country \n",
            " b) imagining the way these relationships will change in the next 20 years. \n",
            " c) analyze the way the world is today and use that information to make predictions about what the world will be like in the future. \n",
            " d) by making scientific predictions about the future, we can make better decisions today. \n",
            " *FOR SKIP PRESS ENTER\n",
            "\n",
            "\n",
            "Make your choice : a\n",
            " Your answer is Incorrect!! 👎\t  \n",
            " Correct option is: d\n",
            "\n",
            "\n",
            "\n",
            "\n",
            "7 :  Read these sentences from the text.\n",
            "\"For many years, people worked to improve how color televisions worked\".  Based on this, what does the word “improve” mean? \n",
            " a) to make something bigger \n",
            " b) to make something worse \n",
            " c) To make something smaller \n",
            " d) To make something better \n",
            " *FOR SKIP PRESS ENTER\n",
            "\n",
            "\n",
            "Make your choice : a\n",
            " Your answer is Incorrect!! 👎\t  \n",
            " Correct option is: d\n",
            "\n",
            "\n",
            "\n",
            "\n",
            "8 : What was the tribute given to Bell when he died? \n",
            " a) the entire telephone system was shut down for one hour \n",
            " b) the entire television system was shut down for one minute \n",
            " c) The entire telephone system was shut down for one minute \n",
            " d) None of these \n",
            " *FOR SKIP PRESS ENTER\n",
            "\n",
            "\n",
            "Make your choice : a\n",
            " Your answer is Incorrect!! 👎\t  \n",
            " Correct option is: c\n",
            "\n",
            "\n",
            "\n",
            "\n",
            "9 : What makes the Brooklyn Bridge so strong? \n",
            " a) Web of big steel ropes \n",
            " b) Big ropes \n",
            " c) Big stone towers \n",
            " d) None of these \n",
            " *FOR SKIP PRESS ENTER\n",
            "\n",
            "\n",
            "Make your choice : a\n",
            "Make your choice : a\n",
            "Correct!! 👍\n",
            "\n",
            "\n",
            "\n",
            "\n",
            "10 : During Benjamin Franklin's lifetime what were the only way to heat one’s home? \n",
            " a) Franklin stove. \n",
            " b) Burning wood or scrap \n",
            " c) fireplaces and stoves \n",
            " d) None of these \n",
            " *FOR SKIP PRESS ENTER\n",
            "\n",
            "\n",
            " Your answer is Incorrect!! 👎\t  \n",
            " Correct option is: c\n",
            "\n",
            "\n",
            "\n",
            "\n",
            "11 : The article describes a sequence of events in the history of the color television. Which of these events happened first? \n",
            " a) Most people in the U.S. bought color television sets. \n",
            " b) Most television shows began to be broadcast in color. \n",
            " c) People worked to make the picture on color television sets clearer. \n",
            " d) Television programs were broadcast in black and white only. \n",
            " *FOR SKIP PRESS ENTER\n",
            "\n",
            "\n",
            "Make your choice : a\n",
            " Your answer is Incorrect!! 👎\t  \n",
            " Correct option is: b\n",
            "\n",
            "\n",
            "\n",
            "\n",
            "12 : When and where did Louis Braille born? \n",
            " a) January 4, 1809 \n",
            " b) January 4, 1810 \n",
            " c) January 14, 1809 \n",
            " d) January 14, 1810 \n",
            " *FOR SKIP PRESS ENTER\n",
            "\n",
            "\n",
            "Make your choice : a\n",
            "Correct!! 👍\n",
            "\n",
            "\n",
            "\n",
            "\n",
            "13 : How did Alexander Graham Bell revolutionize communications? \n",
            " a) He invented the telephone. \n",
            " b) He invented the hearing aid. \n",
            " c) He invented the grain mill \n",
            " d) He invented the television \n",
            " *FOR SKIP PRESS ENTER\n",
            "\n",
            "\n",
            "Make your choice : a\n",
            "Correct!! 👍\n",
            "\n",
            "\n",
            "\n",
            "\n",
            "14 : What does the Brooklyn Bridge do? \n",
            " a) it connects Brooklyn and Manhattan \n",
            " b) it makes New York City famous \n",
            " c) it helps boats travel down the river \n",
            " d) Both A and B \n",
            " *FOR SKIP PRESS ENTER\n",
            "\n",
            "\n",
            "Make your choice : a\n",
            " Your answer is Incorrect!! 👎\t  \n",
            " Correct option is: d\n",
            "\n",
            "\n",
            "\n",
            "\n",
            "15 : In which year ARPA created a new department devoted to Watson science? \n",
            " a) 1960 \n",
            " b) 1962 \n",
            " c) 1969 \n",
            " d) 1961 \n",
            " *FOR SKIP PRESS ENTER\n",
            "\n",
            "\n",
            "Make your choice : a\n",
            " Your answer is Incorrect!! 👎\t  \n",
            " Correct option is: c\n",
            "\n",
            "\n",
            "\n",
            "\n",
            "16 : What was the name of Italian sculptor hired for designing the statue? \n",
            " a) Mrs. James E. Caldwell \n",
            " b) general John Bell \n",
            " c) Giuseppe Moretti \n",
            " d) None of these \n",
            " *FOR SKIP PRESS ENTER\n",
            "\n",
            "\n",
            "Make your choice : a\n",
            " Your answer is Incorrect!! 👎\t  \n",
            " Correct option is: c\n",
            "\n",
            "\n",
            "\n",
            "\n",
            "17 : A long time ago, how were television programs broadcast?  \n",
            " a) In black and white only \n",
            " b) In black only \n",
            " c) In color \n",
            " d) In white only \n",
            " *FOR SKIP PRESS ENTER\n",
            "\n",
            "\n",
            "Make your choice : a\n",
            "Correct!! 👍\n",
            "\n",
            "\n",
            "\n",
            "\n",
            "18 : What was the cost of the original statue  in 1927? \n",
            " a) $15,000 \n",
            " b) $10,000 \n",
            " c) $20,000 \n",
            " d) $30,000 \n",
            " *FOR SKIP PRESS ENTER\n",
            "\n",
            "\n",
            "Make your choice : a\n",
            " Your answer is Incorrect!! 👎\t  \n",
            " Correct option is: d\n",
            "\n",
            "\n",
            "\n",
            "\n",
            "19 : Based on Garry Golden’s predictions, how can transportation systems of the future best be described? \n",
            " a) expensive and complicated \n",
            " b) high-tech and efficient \n",
            " c) high-tech yet impractical \n",
            " d) inexpensive yet outdated \n",
            " *FOR SKIP PRESS ENTER\n",
            "\n",
            "\n",
            "Make your choice : \n",
            "\n",
            "\n",
            "\n",
            "\n",
            "20 : The mistletoe plant is evergreen. What does this mean? \n",
            " a) It has leaves that remain red throughout the year. \n",
            " b) It has leaves that fall off throughout the year. \n",
            " c) It has leaves that remain green throughout the year. \n",
            " d) It takes water and nutrients away from other plants. \n",
            " *FOR SKIP PRESS ENTER\n",
            "\n",
            "\n",
            "Make your choice : a\n",
            " Your answer is Incorrect!! 👎\t  \n",
            " Correct option is: c\n"
          ],
          "name": "stdout"
        }
      ]
    },
    {
      "cell_type": "code",
      "metadata": {
        "id": "smw12mLi-U4T",
        "colab_type": "code",
        "colab": {
          "base_uri": "https://localhost:8080/",
          "height": 1000
        },
        "outputId": "0544630c-f304-48a8-dbc5-cae2ee849e5f"
      },
      "source": [
        "def Score(summary , right_que, wrong_que ,score_f,nn,revise_again,summary1):\n",
        "  print()\n",
        "  print('------------------------Score---------------------------')\n",
        "  print(\"Number of right question : \",right_que)\n",
        "  print(\"Number of wrong question : \",wrong_que)\n",
        "  print(\"     Your Total score is : \",round((score_f*100)/nn,2),'%')\n",
        "  freq=0\n",
        "  for i in range(len(revise_again)):\n",
        "    if(revise_again[i][1]==100):\n",
        "      break;\n",
        "    elif(revise_again[i][1]==0):\n",
        "      freq=1;\n",
        "      print(\"You need to highly revise again :->\",revise_again[i][0])\n",
        "    elif(revise_again[i][1]>0 and revise_again[i][1]<100 and freq==0):\n",
        "      print(\"You need to highly revise again :->\",revise_again[i][0])\n",
        "      break;\n",
        "#  if(revise_again[i-1][1]!=100):\n",
        "#    print(\"And also focus on :->\",revise_again[i-1][0])\n",
        "  print('---------------FINAL SUMMARY--------------------')\n",
        "  \n",
        "  df = pd.DataFrame(list(np.array(summary['Percent(Right)'])), index=list(np.array(summary['Topic'])))\n",
        "  df.plot(kind='pie',autopct='%1.1f%%',subplots=True, figsize=(10, 10))\n",
        "  df1 = pd.DataFrame(list(np.array(summary1['Percent(que)'])), index=list(np.array(summary1['Topic'])))\n",
        "  df1.plot(kind='pie',autopct='%1.1f%%',subplots=True, figsize=(10, 10))\n",
        "\n",
        "  return summary\n",
        "Score(summary , right_que, wrong_que ,score_f,nn,revise_again,summary1)"
      ],
      "execution_count": null,
      "outputs": [
        {
          "output_type": "stream",
          "text": [
            "\n",
            "------------------------Score---------------------------\n",
            "Number of right question :  5\n",
            "Number of wrong question :  14\n",
            "     Your Total score is :  7.5 %\n",
            "You need to highly revise again :-> When Television Became Colorful\n",
            "You need to highly revise again :-> Pluto: The Planet That Wasn't\n",
            "You need to highly revise again :-> An Unlikely Parasite: The Mistletoe\n",
            "You need to highly revise again :-> Benjamin Franklin: The Ultimate Solution Creator\n",
            "---------------FINAL SUMMARY--------------------\n"
          ],
          "name": "stdout"
        },
        {
          "output_type": "execute_result",
          "data": {
            "text/html": [
              "<div>\n",
              "<style scoped>\n",
              "    .dataframe tbody tr th:only-of-type {\n",
              "        vertical-align: middle;\n",
              "    }\n",
              "\n",
              "    .dataframe tbody tr th {\n",
              "        vertical-align: top;\n",
              "    }\n",
              "\n",
              "    .dataframe thead th {\n",
              "        text-align: right;\n",
              "    }\n",
              "</style>\n",
              "<table border=\"1\" class=\"dataframe\">\n",
              "  <thead>\n",
              "    <tr style=\"text-align: right;\">\n",
              "      <th></th>\n",
              "      <th>Topic</th>\n",
              "      <th>Percent(Right)</th>\n",
              "    </tr>\n",
              "  </thead>\n",
              "  <tbody>\n",
              "    <tr>\n",
              "      <th>0</th>\n",
              "      <td>The Brooklyn Bridge</td>\n",
              "      <td>50.00</td>\n",
              "    </tr>\n",
              "    <tr>\n",
              "      <th>1</th>\n",
              "      <td>When Television Became Colorful</td>\n",
              "      <td>0.00</td>\n",
              "    </tr>\n",
              "    <tr>\n",
              "      <th>2</th>\n",
              "      <td>Pluto: The Planet That Wasn't</td>\n",
              "      <td>0.00</td>\n",
              "    </tr>\n",
              "    <tr>\n",
              "      <th>3</th>\n",
              "      <td>An Unlikely Parasite: The Mistletoe</td>\n",
              "      <td>0.00</td>\n",
              "    </tr>\n",
              "    <tr>\n",
              "      <th>4</th>\n",
              "      <td>Louis Braille</td>\n",
              "      <td>33.33</td>\n",
              "    </tr>\n",
              "    <tr>\n",
              "      <th>5</th>\n",
              "      <td>Alexander Graham Bel</td>\n",
              "      <td>40.00</td>\n",
              "    </tr>\n",
              "    <tr>\n",
              "      <th>6</th>\n",
              "      <td>A Monument for Peace</td>\n",
              "      <td>33.33</td>\n",
              "    </tr>\n",
              "    <tr>\n",
              "      <th>7</th>\n",
              "      <td>Benjamin Franklin: The Ultimate Solution Creator</td>\n",
              "      <td>0.00</td>\n",
              "    </tr>\n",
              "  </tbody>\n",
              "</table>\n",
              "</div>"
            ],
            "text/plain": [
              "                                              Topic  Percent(Right)\n",
              "0                               The Brooklyn Bridge           50.00\n",
              "1                   When Television Became Colorful            0.00\n",
              "2                     Pluto: The Planet That Wasn't            0.00\n",
              "3               An Unlikely Parasite: The Mistletoe            0.00\n",
              "4                                     Louis Braille           33.33\n",
              "5                              Alexander Graham Bel           40.00\n",
              "6                              A Monument for Peace           33.33\n",
              "7  Benjamin Franklin: The Ultimate Solution Creator            0.00"
            ]
          },
          "metadata": {
            "tags": []
          },
          "execution_count": 105
        },
        {
          "output_type": "display_data",
          "data": {
            "image/png": "[encoded data removed]",
            "text/plain": [
              "<Figure size 720x720 with 1 Axes>"
            ]
          },
          "metadata": {
            "tags": []
          }
        },
        {
          "output_type": "display_data",
          "data": {
            "image/png": "[encoded data removed]",
            "text/plain": [
              "<Figure size 720x720 with 1 Axes>"
            ]
          },
          "metadata": {
            "tags": []
          }
        }
      ]
    }
  ]
}